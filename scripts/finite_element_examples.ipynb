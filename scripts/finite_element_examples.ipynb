{
 "cells": [
  {
   "cell_type": "code",
   "execution_count": null,
   "id": "3fa549b2-b679-4075-9599-1fa1d622e0bb",
   "metadata": {
    "tags": []
   },
   "outputs": [],
   "source": [
    "import yt\n",
    "import pythreejs\n",
    "import yt.utilities.lib.mesh_triangulation as mt"
   ]
  },
  {
   "cell_type": "code",
   "execution_count": null,
   "id": "7d5e7016-a62a-410c-a2a1-cff7718c8f3b",
   "metadata": {
    "tags": []
   },
   "outputs": [],
   "source": [
    "ds = yt.load_sample(\"MOOSE_sample_data/mps_out.e\", step=-1)\n",
    "nt = ds.parameters['_dt'].size"
   ]
  },
  {
   "cell_type": "code",
   "execution_count": null,
   "id": "ce34d229-2bc0-4b35-b4cc-2b53cb30c949",
   "metadata": {},
   "outputs": [],
   "source": [
    "for i in range(nt):\n",
    "    ds = yt.load_sample(\"MOOSE_sample_data/mps_out.e\", step=i, displacements = {'connect1': (1.0, [0.0, 0.0, 0.0]), 'connect2': (1.0, [0.0, 0.0, 0.0])})\n",
    "    for ax in 'xyz':\n",
    "        s = yt.SlicePlot(ds, ax, (\"all\", \"hydrostatic_stress\"))\n",
    "        s.annotate_mesh_lines(color='k')\n",
    "        s.save(f\"frames/moose_hydrostatic_{ax}_{i:03d}\")"
   ]
  },
  {
   "cell_type": "code",
   "execution_count": null,
   "id": "6f0f6aa1-2e06-440a-8edb-c7f886efc33d",
   "metadata": {
    "tags": []
   },
   "outputs": [],
   "source": [
    "ds = yt.load_sample(\"SecondOrderTets\", step=-1, displacements = {'connect1': ([1.0, 1.0, 1.0], [0.0,0.0,0.0])})"
   ]
  },
  {
   "cell_type": "code",
   "execution_count": null,
   "id": "76162948-d262-4653-81c7-a82aadd393b5",
   "metadata": {
    "tags": []
   },
   "outputs": [],
   "source": [
    "ds.index.meshes[0]._index_offset"
   ]
  },
  {
   "cell_type": "code",
   "execution_count": null,
   "id": "105221a0-7ed6-4352-877e-fa5f69be9d0b",
   "metadata": {
    "tags": []
   },
   "outputs": [],
   "source": [
    "s = yt.SlicePlot(ds, \"y\", (\"all\", \"ux\"))\n",
    "s.annotate_mesh_lines(color = 'k')\n",
    "s.show()"
   ]
  },
  {
   "cell_type": "code",
   "execution_count": null,
   "id": "104068b2-00c0-4d82-8864-9d70ce4ce960",
   "metadata": {
    "tags": []
   },
   "outputs": [],
   "source": [
    "cam = pythreejs.PerspectiveCamera(\n",
    "    position=[25, 35, 100], fov=20, children=[pythreejs.AmbientLight()],\n",
    ")\n",
    "children = [cam, pythreejs.AmbientLight(color=\"#dddddd\")]\n",
    "material = pythreejs.MeshBasicMaterial(\n",
    "    color=\"#ff0000\", vertexColors=\"VertexColors\", side=\"DoubleSide\"\n",
    ")\n",
    "\n",
    "def mesh_to_geometry(mesh):\n",
    "    indices = mt.triangulate_indices(mesh.connectivity_indices - mesh._index_offset)\n",
    "    # We need to convert these to the triangulated mesh, which is done inside mesh_triangulation.pyx\n",
    "    attributes = dict(\n",
    "        position=pythreejs.BufferAttribute(mesh.connectivity_coords, normalized=False),\n",
    "        index=pythreejs.BufferAttribute(\n",
    "           indices[:,(0,1,2)].ravel(order=\"C\").astype(\"u4\"), normalized=False\n",
    "        ),\n",
    "        color = pythreejs.BufferAttribute(\n",
    "            (mesh.connectivity_coords * 255).astype('u1')\n",
    "        )\n",
    "    )\n",
    "    geometry = pythreejs.BufferGeometry(attributes=attributes)\n",
    "    geometry.exec_three_obj_method(\"computeFaceNormals\")\n",
    "    return geometry\n",
    "\n",
    "for mesh in ds.index.meshes:\n",
    "    geometry = mesh_to_geometry(mesh)\n",
    "    children.append(pythreejs.Mesh(\n",
    "        geometry=geometry, material=material, position=[0, 0, 0]\n",
    "    ))\n",
    "\n",
    "scene = pythreejs.Scene(children=children)\n",
    "\n",
    "rendererCube = pythreejs.Renderer(\n",
    "    camera=cam,\n",
    "    background=\"white\",\n",
    "    background_opacity=1,\n",
    "    scene=scene,\n",
    "    controls=[pythreejs.OrbitControls(controlling=cam)],\n",
    "    width=800,\n",
    "    height=800,\n",
    ")\n",
    "\n",
    "\n",
    "rendererCube"
   ]
  },
  {
   "cell_type": "code",
   "execution_count": null,
   "id": "7e63b372-379d-44e1-8598-789481c22741",
   "metadata": {},
   "outputs": [],
   "source": []
  }
 ],
 "metadata": {
  "kernelspec": {
   "display_name": "py311",
   "language": "python",
   "name": "py311"
  },
  "language_info": {
   "codemirror_mode": {
    "name": "ipython",
    "version": 3
   },
   "file_extension": ".py",
   "mimetype": "text/x-python",
   "name": "python",
   "nbconvert_exporter": "python",
   "pygments_lexer": "ipython3",
   "version": "3.11.0"
  }
 },
 "nbformat": 4,
 "nbformat_minor": 5
}
