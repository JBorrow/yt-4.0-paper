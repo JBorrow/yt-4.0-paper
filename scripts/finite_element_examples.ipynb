{
 "cells": [
  {
   "cell_type": "code",
   "execution_count": null,
   "id": "f09a80f1-c578-49cf-aef4-4ed9d38e3cf3",
   "metadata": {
    "tags": []
   },
   "outputs": [],
   "source": [
    "import yt"
   ]
  },
  {
   "cell_type": "code",
   "execution_count": null,
   "id": "7d5e7016-a62a-410c-a2a1-cff7718c8f3b",
   "metadata": {
    "tags": []
   },
   "outputs": [],
   "source": [
    "ds = yt.load_sample(\"MOOSE_sample_data/mps_out.e\", step=-1)\n",
    "nt = ds.parameters['_dt'].size"
   ]
  },
  {
   "cell_type": "code",
   "execution_count": null,
   "id": "ce34d229-2bc0-4b35-b4cc-2b53cb30c949",
   "metadata": {},
   "outputs": [],
   "source": [
    "for i in range(nt):\n",
    "    ds = yt.load_sample(\"MOOSE_sample_data/mps_out.e\", step=i, displacements = {'connect1': (1.0, [0.0, 0.0, 0.0]), 'connect2': (1.0, [0.0, 0.0, 0.0])})\n",
    "    for ax in 'xyz':\n",
    "        s = yt.SlicePlot(ds, ax, (\"all\", \"hydrostatic_stress\"))\n",
    "        s.annotate_mesh_lines(color='k')\n",
    "        s.save(f\"frames/moose_hydrostatic_{ax}_{i:03d}\")"
   ]
  },
  {
   "cell_type": "code",
   "execution_count": null,
   "id": "6f0f6aa1-2e06-440a-8edb-c7f886efc33d",
   "metadata": {},
   "outputs": [],
   "source": []
  }
 ],
 "metadata": {
  "kernelspec": {
   "display_name": "py311",
   "language": "python",
   "name": "py311"
  },
  "language_info": {
   "codemirror_mode": {
    "name": "ipython",
    "version": 3
   },
   "file_extension": ".py",
   "mimetype": "text/x-python",
   "name": "python",
   "nbconvert_exporter": "python",
   "pygments_lexer": "ipython3",
   "version": "3.11.0"
  }
 },
 "nbformat": 4,
 "nbformat_minor": 5
}
